{
 "cells": [
  {
   "cell_type": "markdown",
   "metadata": {},
   "source": [
    "## Gmartket 베스트 상품 이미지 크롤링"
   ]
  },
  {
   "cell_type": "markdown",
   "metadata": {},
   "source": [
    "### Gmartket 베스트 상품 이미지 크롤링\n",
    "* 패션 의류 탑 5 상품 이미지"
   ]
  },
  {
   "cell_type": "code",
   "execution_count": null,
   "metadata": {},
   "outputs": [],
   "source": [
    "import requests\n",
    "from urllib.request import urlopen\n",
    "from bs4 import BeautifulSoup\n",
    "\n",
    "crawl_num = 5   #크롤 갯수\n",
    "\n",
    "#타깃이 되는 URL\n",
    "best_url = 'http://corners.gmarket.co.kr/Bestsellers?viewType=G&groupCode=G01'\n",
    "\n",
    "#HTML 가져오기\n",
    "res = requests.get(best_url)\n",
    "\n",
    "#HTML 파싱하여 객체에 담기\n",
    "soup = BeautifulSoup(res.content, 'html.parser')\n",
    "\n",
    "#태그안의 정보 빼기\n",
    "products = soup.select('div.best-list > ul > li') "
   ]
  },
  {
   "cell_type": "code",
   "execution_count": 3,
   "metadata": {},
   "outputs": [
    {
     "data": {
      "text/plain": [
       "100"
      ]
     },
     "execution_count": 3,
     "metadata": {},
     "output_type": "execute_result"
    }
   ],
   "source": [
    "len (products)"
   ]
  },
  {
   "cell_type": "code",
   "execution_count": 5,
   "metadata": {},
   "outputs": [
    {
     "data": {
      "text/plain": [
       "[<a class=\"itemname\" href=\"http://item.gmarket.co.kr/Item?goodscode=1975776752&amp;ver=637987669696662820\" onclick=\"pdsClickLog('200000680', 'Item', {'ASN': 1, 'goodsCode': '1975776752'});\">(연휴특가)쇼인더룸 가을신상할인 티셔츠/세트/팬츠/빅사이즈</a>]"
      ]
     },
     "execution_count": 5,
     "metadata": {},
     "output_type": "execute_result"
    }
   ],
   "source": [
    "products[0].select('a.itemname')"
   ]
  },
  {
   "cell_type": "code",
   "execution_count": 9,
   "metadata": {},
   "outputs": [
    {
     "data": {
      "text/plain": [
       "'(연휴특가)쇼인더룸 가을신상할인 티셔츠/세트/팬츠/빅사이즈'"
      ]
     },
     "execution_count": 9,
     "metadata": {},
     "output_type": "execute_result"
    }
   ],
   "source": [
    "products[0].select_one('a.itemname').get_text()"
   ]
  },
  {
   "cell_type": "code",
   "execution_count": 11,
   "metadata": {},
   "outputs": [
    {
     "data": {
      "text/plain": [
       "<img alt=\"(연휴특가)쇼인더룸 가을신상할인 티셔츠/세트/팬츠/빅사이즈\" class=\"lazy\" data-original=\"//gdimg.gmarket.co.kr/1975776752/still/300?ver=2022091415\" height=\"210\" src=\"//image.gmarket.co.kr/challenge/neo_image/no_image.gif\" width=\"210\"/>"
      ]
     },
     "execution_count": 11,
     "metadata": {},
     "output_type": "execute_result"
    }
   ],
   "source": [
    "products[0].select_one('a.itemname').get_text()\n",
    "img_tag = products[0].select_one('img.lazy')\n",
    "img_tag\n",
    "img_tag['data-original']\n",
    "img_tag['src']"
   ]
  },
  {
   "cell_type": "code",
   "execution_count": 16,
   "metadata": {},
   "outputs": [
    {
     "data": {
      "text/plain": [
       "'//image.gmarket.co.kr/challenge/neo_image/no_image.gif'"
      ]
     },
     "execution_count": 16,
     "metadata": {},
     "output_type": "execute_result"
    }
   ],
   "source": [
    "img_tag['data-original']\n",
    "img_tag['src']\n",
    "#'//image.gmarket.co.kr/challenge/neo_image/no_image.gif' no이미지, 에러시 보여줄 이미지/"
   ]
  },
  {
   "cell_type": "code",
   "execution_count": 18,
   "metadata": {},
   "outputs": [
    {
     "data": {
      "text/plain": [
       "'https://gdimg.gmarket.co.kr/189842449/still/300?ver=2022090322'"
      ]
     },
     "execution_count": 18,
     "metadata": {},
     "output_type": "execute_result"
    }
   ],
   "source": [
    "img_url = 'https:'+ img_tag['data-original']\n",
    "img_url"
   ]
  },
  {
   "cell_type": "code",
   "execution_count": 8,
   "metadata": {},
   "outputs": [
    {
     "data": {
      "text/plain": [
       "'https://image.gmarket.co.kr/challenge/neo_image/no_image.gif'"
      ]
     },
     "execution_count": 8,
     "metadata": {},
     "output_type": "execute_result"
    }
   ],
   "source": [
    "img_url = 'https:'+ img_tag['src']\n",
    "img_url"
   ]
  },
  {
   "cell_type": "code",
   "execution_count": 19,
   "metadata": {},
   "outputs": [],
   "source": [
    "## 이미지 다운로드\n",
    "from urllib.request import urlopen\n",
    "imgUrl = 'https://gdimg.gmarket.co.kr/189842449/still/300?ver=2022090322'\n",
    "\n",
    "index = 0\n",
    "with urlopen(imgUrl) as f:\n",
    "    with open('./image/crawl/img'+ str(index +1) + '.jpg','wb') as h: # w - write b - binary\n",
    "        img = f.read()\n",
    "        h.write(img)"
   ]
  },
  {
   "cell_type": "markdown",
   "metadata": {},
   "source": [
    "## 종합코드\n",
    "\n",
    "* 베스트 5개 이미지만 저장할 것!"
   ]
  },
  {
   "cell_type": "code",
   "execution_count": 34,
   "metadata": {},
   "outputs": [
    {
     "name": "stdout",
     "output_type": "stream",
     "text": [
      "크롤링 끝\n"
     ]
    },
    {
     "data": {
      "text/plain": [
       "['모노시크/가을신상 티셔츠/맨투맨/후드/니트/블라우스/셔츠/남방/가디건/세트/팬츠/스커트/데일리룩',\n",
       " '너의지금 20%쿠폰 신상니트 가디건/롱/세트/가을신상/크롭/박스/루즈핏/긴팔',\n",
       " '패션라인 가을신상 원피스/니트/맨투맨/셔츠/팬츠/청바지/자켓/데님/세트상품',\n",
       " '제이프랑 가을신상 티셔츠/팬츠/긴팔/셋업']"
      ]
     },
     "execution_count": 34,
     "metadata": {},
     "output_type": "execute_result"
    }
   ],
   "source": [
    "from itertools import product\n",
    "from select import select\n",
    "import requests\n",
    "from urllib.request import urlopen\n",
    "from bs4 import BeautifulSoup\n",
    "\n",
    "crawl_num = 5   #크롤 갯수\n",
    "\n",
    "\n",
    "url = 'http://corners.gmarket.co.kr/Bestsellers?viewType=G&groupCode=G01'\n",
    "res = requests.get(best_url)\n",
    "soup = BeautifulSoup(res.content, 'html.parser')\n",
    "products = soup.select('div.best-list > ul > li')\n",
    "p_name=[]\n",
    "p_img=[]\n",
    "for index, product in enumerate(products):\n",
    "    #이미지 태그 가져오기\n",
    "    img_tag = product.select_one('img.lazy')\n",
    "    #url 만들기\n",
    "    img_url = 'https:'+ img_tag['data-original']\n",
    "    #상품명\n",
    "    p_name.append(products[index].select_one('a.itemname').get_text().strip())\n",
    "    with urlopen(img_url) as f:\n",
    "        with open('./image/crawl/img'+ str(index +1) + '.jpg','wb') as h: # w - write b - binary\n",
    "            img = f.read()\n",
    "            h.write(img)\n",
    "    if index == crawl_num -1 : \n",
    "        break\n",
    "print(\"크롤링 끝\")\n",
    "# img_tag\n",
    "# img_url\n",
    "p_name[1:6]\n",
    "#이미지\n",
    "# p_img.append(products[index].select_one('a.'))\n",
    "\n",
    "\n",
    "\n",
    "\n",
    "\n",
    "\n",
    "\n",
    "\n"
   ]
  },
  {
   "cell_type": "markdown",
   "metadata": {},
   "source": [
    "### 파일이름에 상품명이 같이 나오도록 바꾸기\n",
    "\n",
    "* 예) img1.jpg -> img1_겨울 따뜻한 후리스조끼플리스자켓패딩기모바지.jpg"
   ]
  },
  {
   "cell_type": "code",
   "execution_count": 41,
   "metadata": {},
   "outputs": [],
   "source": [
    "\n",
    "\n",
    "\n",
    "from itertools import product\n",
    "from select import select\n",
    "import requests\n",
    "from urllib.request import urlopen\n",
    "from bs4 import BeautifulSoup\n",
    "\n",
    "crawl_num = 5   #크롤 갯수\n",
    "\n",
    "\n",
    "url = 'http://corners.gmarket.co.kr/Bestsellers?viewType=G&groupCode=G01'\n",
    "res = requests.get(best_url)\n",
    "soup = BeautifulSoup(res.content, 'html.parser')\n",
    "products = soup.select('div.best-list > ul > li')\n",
    "p_name=[]\n",
    "p_img=[]\n",
    "for index, product in enumerate(products):\n",
    "    #이미지 태그 가져오기\n",
    "    img_tag = product.select_one('img.lazy')\n",
    "    #url 만들기\n",
    "    img_url = 'https:'+ img_tag['data-original']\n",
    "    #상품명\n",
    "    pname=product.select_one('a.itemname').get_text()\n",
    "    pname = pname.replace('/','')\n",
    "    pname\n",
    "    with urlopen(img_url) as f:\n",
    "        with open('./image/crawl/img'+ str(index +1) +'_'+pname+ '.jpg','wb') as h: # w - write b - binary\n",
    "            img = f.read()\n",
    "            h.write(img)\n",
    "    if index == crawl_num -1 : \n",
    "        break\n",
    "# print(\"크롤링 끝\")\n",
    "# img_tag\n",
    "# img_url\n",
    "# p_name[1:6]\n",
    "#이미지\n",
    "# p_img.append(products[index].select_one('a.'))\n",
    "\n",
    "\n",
    "\n",
    "\n",
    "\n",
    "\n",
    "\n",
    "\n"
   ]
  },
  {
   "cell_type": "markdown",
   "metadata": {},
   "source": [
    "### 카테고리별 베스트 상품 크롤링 자동화\n",
    "\n",
    "* 패션의류, 신발/잡화, 화장품/헤어, 유아동/출산 .........\n",
    "* 원하는 만큼 상품 크롤링"
   ]
  },
  {
   "cell_type": "markdown",
   "metadata": {},
   "source": [
    "#### 자동으로 URL 만들기\n",
    "\n",
    "* http://corners.gmarket.co.kr/Bestsellers?viewType=G&groupCode=G01\n",
    "* http://corners.gmarket.co.kr/Bestsellers?viewType=G&groupCode=G02\n",
    "* http://corners.gmarket.co.kr/Bestsellers?viewType=G&groupCode=G03\n",
    "* http://corners.gmarket.co.kr/Bestsellers?viewType=G&groupCode=G04\n",
    "\n",
    "> URL을 위의 순서처럼 순서대로 만들려면 어떻게 해야할까?"
   ]
  },
  {
   "cell_type": "code",
   "execution_count": null,
   "metadata": {},
   "outputs": [],
   "source": []
  },
  {
   "cell_type": "markdown",
   "metadata": {},
   "source": [
    "#### 자동으로 4개의 카테고리 베스트 상품을 크롤링 하세요"
   ]
  },
  {
   "cell_type": "code",
   "execution_count": null,
   "metadata": {},
   "outputs": [],
   "source": [
    "\n",
    "\n",
    "\n",
    "\n",
    "\n",
    "\n",
    "\n"
   ]
  },
  {
   "cell_type": "markdown",
   "metadata": {},
   "source": [
    "### 파일 이름이 카테고리별로 정리 되려면 어떻게 해야할까요?\n",
    ">예) <br>\n",
    ">img1_겨울 따뜻한 후리스조끼플리스자켓패딩기모바지.jpg <br>\n",
    ">img1_[달바]화이트 트러플 미스트 세럼 180ml+180ml.jpg <br>\n",
    ">크롤링한 파일이 섞여있어, 카테고리별 베스트 상품을 파악할 수 없어요. <br>"
   ]
  },
  {
   "cell_type": "code",
   "execution_count": null,
   "metadata": {},
   "outputs": [],
   "source": [
    "\n",
    "\n",
    "\n",
    "\n",
    "\n",
    "\n",
    "\n",
    "\n",
    "\n",
    "\n",
    "\n"
   ]
  },
  {
   "cell_type": "markdown",
   "metadata": {},
   "source": [
    "## Pillow(PIL) 모듈 체험\n",
    "\n",
    "* 파이썬 이미징 라이브러리로서 여러 이미지 파일 포맷을 지원\n",
    "* 이미지 내부 데이타를 엑세스할 수 있게 하며, 다양한 이미지 처리 기능을 제공\n",
    "\n",
    "https://pillow.readthedocs.io/en/stable/reference/index.html\n",
    "\n",
    "http://pythonstudy.xyz/python/article/406-%ED%8C%8C%EC%9D%B4%EC%8D%AC-%EC%9D%B4%EB%AF%B8%EC%A7%80-%EC%B2%98%EB%A6%AC-Pillow\n"
   ]
  },
  {
   "cell_type": "code",
   "execution_count": 10,
   "metadata": {},
   "outputs": [
    {
     "name": "stdout",
     "output_type": "stream",
     "text": [
      "Requirement already satisfied: Pillow in c:\\users\\miran\\appdata\\local\\programs\\python\\python39\\lib\\site-packages (9.2.0)\n"
     ]
    }
   ],
   "source": [
    "!pip install Pillow"
   ]
  },
  {
   "cell_type": "markdown",
   "metadata": {},
   "source": [
    "### 이미지 읽고 쓰기"
   ]
  },
  {
   "cell_type": "code",
   "execution_count": 11,
   "metadata": {},
   "outputs": [
    {
     "name": "stdout",
     "output_type": "stream",
     "text": [
      "(200, 200)\n"
     ]
    }
   ],
   "source": [
    "from PIL import Image\n",
    "# 이미지 열기\n",
    "tmp = Image.open('./image/dog.jpg')\n",
    " \n",
    "# 이미지 크기 출력\n",
    "print(tmp.size)\n",
    "tmp.close()"
   ]
  },
  {
   "cell_type": "code",
   "execution_count": 31,
   "metadata": {},
   "outputs": [
    {
     "name": "stdout",
     "output_type": "stream",
     "text": [
      "(200, 200)\n"
     ]
    }
   ],
   "source": [
    "from PIL import Image\n",
    "# 이미지 열기\n",
    "fileName='dog'\n",
    "tmp = Image.open('./image/' + fileName + '.jpg')\n",
    " \n",
    "# 이미지 크기 출력\n",
    "print(tmp.size)\n",
    "tmp.close()"
   ]
  },
  {
   "cell_type": "markdown",
   "metadata": {},
   "source": [
    "### 이미지 사이즈 조절"
   ]
  },
  {
   "cell_type": "code",
   "execution_count": 12,
   "metadata": {},
   "outputs": [
    {
     "name": "stdout",
     "output_type": "stream",
     "text": [
      "---end ---\n"
     ]
    }
   ],
   "source": [
    "fileName='dog'\n",
    "tmp=Image.open('./image/' + fileName + '.jpg')\n",
    "\n",
    "# 200x200으로 조절\n",
    "tmpResize=tmp.resize((200,200))\n",
    "tmpResize.save('./image/' + fileName + '.jpg')\n",
    "\n",
    "print('---end ---')\n",
    "tmp.close()"
   ]
  },
  {
   "cell_type": "code",
   "execution_count": 33,
   "metadata": {},
   "outputs": [
    {
     "name": "stdout",
     "output_type": "stream",
     "text": [
      "---end ---\n"
     ]
    }
   ],
   "source": [
    "fileName='dog'\n",
    "tmp=Image.open('./image/' + fileName + '.jpg')\n",
    "\n",
    "size=300\n",
    "tmpResize=tmp.resize((size,size))\n",
    "tmpResize.save('./image/' + str(size) + fileName + '.jpg')\n",
    "print('---end ---')\n",
    "tmp.close()"
   ]
  },
  {
   "cell_type": "markdown",
   "metadata": {},
   "source": [
    "### 이미지에 로고 합성\n",
    " https://creativeworks.tistory.com/entry/PYTHON-3-Tutorials-41-Combine-Images-Together-%EC%9D%B4%EB%AF%B8%EC%A7%80-%EB%B3%91%ED%95%A9%ED%95%98%EA%B8%B0-like-watermark%EC%9B%8C%ED%84%B0%EB%A7%88%ED%81%AC?category=620431"
   ]
  },
  {
   "cell_type": "code",
   "execution_count": 48,
   "metadata": {},
   "outputs": [
    {
     "name": "stdout",
     "output_type": "stream",
     "text": [
      "(64, 64)\n"
     ]
    }
   ],
   "source": [
    "from PIL import Image\n",
    "\n",
    "logo=Image.open('./image/top.png')\n",
    "\n",
    "print(logo.size)"
   ]
  },
  {
   "cell_type": "code",
   "execution_count": 49,
   "metadata": {},
   "outputs": [],
   "source": [
    "#area=(0,0,64,64)\n",
    "p=Image.open('  ')\n",
    "\n",
    "area=(0,0,logo.width,logo.height)\n",
    "\n",
    "p.paste(logo,area,logo) #png 파일 배경 투명하게 붙이는 방법\n",
    "\n",
    "\n",
    "p.save('  ')\n",
    "p.close()\n",
    "logo.close()"
   ]
  },
  {
   "cell_type": "markdown",
   "metadata": {},
   "source": [
    "## 디렉토리안 파일리스트 가져오기"
   ]
  },
  {
   "cell_type": "code",
   "execution_count": 41,
   "metadata": {},
   "outputs": [
    {
     "data": {
      "text/plain": [
       "['img1.jpg',\n",
       " 'img2.jpg',\n",
       " 'img3.jpg',\n",
       " 'img4.jpg',\n",
       " 'img5.jpg',\n",
       " 'img1_요즘에가을신상 20%+5%쿠폰청바지슬랙스면팬츠밴딩빅사이즈.jpg',\n",
       " 'img2_다온샵 20+5%쿠폰 가을신상청바지슬랙스면팬츠밴딩빅사이즈.jpg',\n",
       " 'img3_여성티메이 티셔츠 블라우스 상하세트 청바지 원피스.jpg',\n",
       " 'img4_파격원특가 쇼인더룸 20+5% 가을신상 티셔츠세트팬츠빅사이즈.jpg',\n",
       " 'img5_20%+5% 쿠폰 홈쇼핑 가을 니트팬츠블라우스스커트무료배송.jpg',\n",
       " 'img1_[프롬산타]2+1 균일가 최대50켤레 양말 선물세트 덧신 발목 중목 장목 정장 패션 학생 남성 여성 골지 면 흰 검정.jpg',\n",
       " 'img2_가을신상 여름 시즌오프 버킷햇레그워머양말왕리본집게핀.jpg',\n",
       " 'img3_[투투삭스]균일가 착용감 좋은 양말발목중목패션학생.jpg',\n",
       " 'img4_(무료반품) 월드컵 남성 여성 아동 가을 신상 슬립온운동화아쿠아슈즈샌들슬리퍼신발여름 OFF 모음전.jpg',\n",
       " 'img5_균일가 국산 남자양말 가을 발목 덧신 중목 장목 스포츠.jpg',\n",
       " 'img1_[에뛰드]에뛰드 추석빅세일 UPTO 73%.jpg',\n",
       " 'img2_[센텔리안24]동국제약 국민마데카 빅세일~84%마데카크림기미앰플멀티밤 외 센텔리안24 BEST.jpg',\n",
       " 'img3_[설화수](20%+10%+상품권)설화수 추석 효도선물세트 자음 윤조.jpg',\n",
       " 'img4_[세타필]NEW 대용량 로션 473ml 3개 (22년 신제품) +사은품.jpg',\n",
       " 'img5_[헤드앤숄더](9월3일 한정특가 최종2.6만) 헤드앤숄더 클리니컬 스트렝스 비듬 이치 샴푸 400ml 1+1.jpg',\n",
       " 'img1_[베베숲]프리미어 70매 캡 20팩.jpg',\n",
       " 'img2_[버블트리]주니어 여아 가을 인기 스쿨룩  상하세트 팬츠 맨투맨 원피스 레깅스.jpg',\n",
       " 'img3_[엄지한복]엄지 추석 신상 남아여아 아동한복+무배.jpg',\n",
       " 'img4_[베베숲]프리미어 70매 캡 20팩.jpg',\n",
       " 'img5_[센스(물티슈)]물티슈 최종 11920) 악어 캡형 100매 20팩 대용량.jpg',\n",
       " '패션의류_1_요즘에가을신상 20%+5%쿠폰청바지슬랙스면팬츠밴딩빅사이즈.jpg',\n",
       " '패션의류_2_다온샵 20+5%쿠폰 가을신상청바지슬랙스면팬츠밴딩빅사이즈.jpg',\n",
       " '패션의류_3_여성티메이 티셔츠 블라우스 상하세트 청바지 원피스.jpg',\n",
       " '패션의류_4_파격원특가 쇼인더룸 20+5% 가을신상 티셔츠세트팬츠빅사이즈.jpg',\n",
       " '패션의류_5_20%+5% 쿠폰 홈쇼핑 가을 니트팬츠블라우스스커트무료배송.jpg',\n",
       " '신발잡화_1_[프롬산타]2+1 균일가 최대50켤레 양말 선물세트 덧신 발목 중목 장목 정장 패션 학생 남성 여성 골지 면 흰 검정.jpg',\n",
       " '신발잡화_2_가을신상 여름 시즌오프 버킷햇레그워머양말왕리본집게핀.jpg',\n",
       " '신발잡화_3_[투투삭스]균일가 착용감 좋은 양말발목중목패션학생.jpg',\n",
       " '신발잡화_4_(무료반품) 월드컵 남성 여성 아동 가을 신상 슬립온운동화아쿠아슈즈샌들슬리퍼신발여름 OFF 모음전.jpg',\n",
       " '신발잡화_5_균일가 국산 남자양말 가을 발목 덧신 중목 장목 스포츠.jpg',\n",
       " '화장품헤어_1_[에뛰드]에뛰드 추석빅세일 UPTO 73%.jpg',\n",
       " '화장품헤어_2_[센텔리안24]동국제약 국민마데카 빅세일~84%마데카크림기미앰플멀티밤 외 센텔리안24 BEST.jpg',\n",
       " '화장품헤어_3_[설화수](20%+10%+상품권)설화수 추석 효도선물세트 자음 윤조.jpg',\n",
       " '화장품헤어_4_[세타필]NEW 대용량 로션 473ml 3개 (22년 신제품) +사은품.jpg',\n",
       " '화장품헤어_5_[헤드앤숄더](9월3일 한정특가 최종2.6만) 헤드앤숄더 클리니컬 스트렝스 비듬 이치 샴푸 400ml 1+1.jpg',\n",
       " '유아동출산_1_[베베숲]프리미어 70매 캡 20팩.jpg',\n",
       " '유아동출산_2_[버블트리]주니어 여아 가을 인기 스쿨룩  상하세트 팬츠 맨투맨 원피스 레깅스.jpg',\n",
       " '유아동출산_3_[엄지한복]엄지 추석 신상 남아여아 아동한복+무배.jpg',\n",
       " '유아동출산_4_[베베숲]프리미어 70매 캡 20팩.jpg',\n",
       " '유아동출산_5_[센스(물티슈)]물티슈 최종 11920) 악어 캡형 100매 20팩 대용량.jpg',\n",
       " 'logo_패션의류_1_겨울 따뜻한 후리스조끼플리스자켓패딩기모바지.jpg',\n",
       " 'logo_패션의류_1_겨울 따뜻한 후리스조끼플리스자켓패딩기모바지.png']"
      ]
     },
     "execution_count": 41,
     "metadata": {},
     "output_type": "execute_result"
    }
   ],
   "source": [
    "import os\n",
    "path_dir='./image/crawl'\n",
    "fileList=os.listdir(path_dir)\n",
    "fileList"
   ]
  },
  {
   "cell_type": "markdown",
   "metadata": {},
   "source": [
    "## 카테고리별 1등 파일에만 1등 로고합성하기"
   ]
  },
  {
   "cell_type": "code",
   "execution_count": null,
   "metadata": {},
   "outputs": [],
   "source": [
    "\n",
    "\n",
    "\n",
    "\n",
    "\n",
    "\n"
   ]
  },
  {
   "cell_type": "code",
   "execution_count": null,
   "metadata": {},
   "outputs": [],
   "source": []
  },
  {
   "cell_type": "code",
   "execution_count": null,
   "metadata": {},
   "outputs": [],
   "source": []
  },
  {
   "cell_type": "code",
   "execution_count": null,
   "metadata": {},
   "outputs": [],
   "source": []
  },
  {
   "cell_type": "code",
   "execution_count": null,
   "metadata": {},
   "outputs": [],
   "source": []
  }
 ],
 "metadata": {
  "kernelspec": {
   "display_name": "Python 3.9.13 64-bit",
   "language": "python",
   "name": "python3"
  },
  "language_info": {
   "codemirror_mode": {
    "name": "ipython",
    "version": 3
   },
   "file_extension": ".py",
   "mimetype": "text/x-python",
   "name": "python",
   "nbconvert_exporter": "python",
   "pygments_lexer": "ipython3",
   "version": "3.9.13"
  },
  "toc": {
   "base_numbering": 1,
   "nav_menu": {},
   "number_sections": true,
   "sideBar": true,
   "skip_h1_title": false,
   "title_cell": "Table of Contents",
   "title_sidebar": "Contents",
   "toc_cell": false,
   "toc_position": {
    "height": "calc(100% - 180px)",
    "left": "10px",
    "top": "150px",
    "width": "284.2px"
   },
   "toc_section_display": true,
   "toc_window_display": false
  },
  "varInspector": {
   "cols": {
    "lenName": 16,
    "lenType": 16,
    "lenVar": 40
   },
   "kernels_config": {
    "python": {
     "delete_cmd_postfix": "",
     "delete_cmd_prefix": "del ",
     "library": "var_list.py",
     "varRefreshCmd": "print(var_dic_list())"
    },
    "r": {
     "delete_cmd_postfix": ") ",
     "delete_cmd_prefix": "rm(",
     "library": "var_list.r",
     "varRefreshCmd": "cat(var_dic_list()) "
    }
   },
   "position": {
    "height": "496.4px",
    "left": "1173px",
    "right": "20px",
    "top": "146px",
    "width": "350px"
   },
   "types_to_exclude": [
    "module",
    "function",
    "builtin_function_or_method",
    "instance",
    "_Feature"
   ],
   "window_display": false
  },
  "vscode": {
   "interpreter": {
    "hash": "81794d4967e6c3204c66dcd87b604927b115b27c00565d3d43f05ba2f3a2cb0d"
   }
  }
 },
 "nbformat": 4,
 "nbformat_minor": 4
}
