{
 "cells": [
  {
   "cell_type": "markdown",
   "metadata": {},
   "source": [
    "영수증 스캔 및 내용 추출"
   ]
  },
  {
   "cell_type": "code",
   "execution_count": 1,
   "metadata": {},
   "outputs": [],
   "source": [
    "import easyocr"
   ]
  },
  {
   "cell_type": "code",
   "execution_count": 2,
   "metadata": {},
   "outputs": [
    {
     "name": "stderr",
     "output_type": "stream",
     "text": [
      "CUDA not available - defaulting to CPU. Note: This module is much faster with a GPU.\n",
      "Downloading detection model, please wait. This may take several minutes depending upon your network connection.\n"
     ]
    },
    {
     "name": "stdout",
     "output_type": "stream",
     "text": [
      "Progress: |██████████████████████████████████████████████████| 100.0% Complete"
     ]
    },
    {
     "name": "stderr",
     "output_type": "stream",
     "text": [
      "Downloading recognition model, please wait. This may take several minutes depending upon your network connection.\n"
     ]
    },
    {
     "name": "stdout",
     "output_type": "stream",
     "text": [
      "Progress: |██████████████████████████████████████████████████| 100.1% Complete"
     ]
    },
    {
     "name": "stderr",
     "output_type": "stream",
     "text": [
      "c:\\Python39\\lib\\site-packages\\torchvision\\models\\_utils.py:252: UserWarning: Accessing the model URLs via the internal dictionary of the module is deprecated since 0.13 and will be removed in 0.15. Please access them via the appropriate Weights Enum instead.\n",
      "  warnings.warn(\n",
      "c:\\Python39\\lib\\site-packages\\torchvision\\models\\_utils.py:208: UserWarning: The parameter 'pretrained' is deprecated since 0.13 and will be removed in 0.15, please use 'weights' instead.\n",
      "  warnings.warn(\n",
      "c:\\Python39\\lib\\site-packages\\torchvision\\models\\_utils.py:223: UserWarning: Arguments other than a weight enum or `None` for 'weights' are deprecated since 0.13 and will be removed in 0.15. The current behavior is equivalent to passing `weights=None`.\n",
      "  warnings.warn(msg)\n"
     ]
    }
   ],
   "source": [
    "reader = easyocr.Reader(['en','ko'])"
   ]
  },
  {
   "cell_type": "code",
   "execution_count": 3,
   "metadata": {},
   "outputs": [],
   "source": [
    "result = reader.readtext('receipt2.jpg')\n"
   ]
  },
  {
   "cell_type": "code",
   "execution_count": 4,
   "metadata": {},
   "outputs": [
    {
     "data": {
      "text/plain": [
       "[([[120, 168], [510, 168], [510, 200], [120, 200]],\n",
       "  '[신용카드 (승인) 전표]',\n",
       "  0.7136171386662249),\n",
       " ([[266, 196], [358, 196], [358, 222], [266, 222]],\n",
       "  '고 객 용',\n",
       "  0.39803181814648114),\n",
       " ([[94, 220], [122, 220], [122, 248], [94, 248]], '상', 0.999956131462568),\n",
       " ([[132, 218], [276, 218], [276, 250], [132, 250]],\n",
       "  '호: 왕순대식당',\n",
       "  0.9945652486325715),\n",
       " ([[94, 244], [334, 244], [334, 270], [94, 270]],\n",
       "  '사업자번오: 1UI-11-50148',\n",
       "  0.7229211086925474),\n",
       " ([[346, 244], [496, 244], [496, 272], [346, 272]],\n",
       "  '대표지 : 신영녀',\n",
       "  0.249223727621508),\n",
       " ([[94, 268], [120, 268], [120, 318], [94, 318]], '준', 0.15215313340650383),\n",
       " ([[132, 268], [392, 268], [392, 298], [132, 298]],\n",
       "  '소: 서울 종로구 수표로2길',\n",
       "  0.7591122892870698),\n",
       " ([[130, 294], [166, 294], [166, 318], [130, 318]], '화:', 0.699841511129514),\n",
       " ([[178, 294], [304, 294], [304, 318], [178, 318]],\n",
       "  '02-2266-2379',\n",
       "  0.6044298354013481),\n",
       " ([[92, 340], [514, 340], [514, 372], [92, 372]],\n",
       "  '2017년12월03일 13:01 ND:0048 01-초기사용자',\n",
       "  0.5583685243115355),\n",
       " ([[90, 388], [172, 388], [172, 414], [90, 414]], '카 드명', 0.7784565687179565),\n",
       " ([[206, 390], [338, 390], [338, 416], [206, 416]],\n",
       "  '하나   (구외완)',\n",
       "  0.5122767067923734),\n",
       " ([[86, 410], [170, 410], [170, 436], [86, 436]], '카드번호', 0.989273726940155),\n",
       " ([[204, 412], [310, 412], [310, 438], [204, 438]],\n",
       "  '524335****',\n",
       "  0.9979216616895884),\n",
       " ([[327, 421], [371, 421], [371, 433], [327, 433]],\n",
       "  '#**Y',\n",
       "  0.13947544991970062),\n",
       " ([[81, 431], [320, 431], [320, 462], [81, 462]],\n",
       "  '가행점번호: 00964419733',\n",
       "  0.4635032137382804),\n",
       " ([[74, 454], [168, 454], [168, 510], [74, 510]], '승금', 0.5246654867854336),\n",
       " ([[196, 460], [296, 460], [296, 508], [196, 508]],\n",
       "  'ZAO 원',\n",
       "  0.275937102592991),\n",
       " ([[76, 500], [164, 500], [164, 532], [76, 532]], '공급가액', 0.7410433118365379),\n",
       " ([[196, 504], [370, 504], [370, 534], [196, 534]],\n",
       "  '21,816 원 부가세',\n",
       "  0.9540015811360385),\n",
       " ([[404, 508], [496, 508], [496, 536], [404, 536]],\n",
       "  '2,184 원',\n",
       "  0.5212868941722101),\n",
       " ([[74, 528], [158, 528], [158, 558], [74, 558]], '할부개월', 0.48197340965270996),\n",
       " ([[195, 527], [359, 527], [359, 563], [195, 563]],\n",
       "  '일시불 매입사명',\n",
       "  0.9411765756092917),\n",
       " ([[392, 530], [487, 530], [487, 566], [392, 566]],\n",
       "  '하나외환',\n",
       "  0.8894914984703064),\n",
       " ([[70, 549], [159, 549], [159, 586], [70, 586]], '승인번호', 0.9995201826095581),\n",
       " ([[192, 556], [286, 556], [286, 586], [192, 586]],\n",
       "  '05457012',\n",
       "  0.8397383321706755),\n",
       " ([[70, 578], [158, 578], [158, 610], [70, 610]], '승인일시', 0.9950001835823059),\n",
       " ([[190, 580], [411, 580], [411, 617], [190, 617]],\n",
       "  '2017년[2월03일 13:0I',\n",
       "  0.3898059755550023),\n",
       " ([[68, 632], [92, 632], [92, 658], [68, 658]], '알', 0.9807505195596811),\n",
       " ([[128, 634], [154, 634], [154, 660], [128, 660]], '팀', 0.3248552584394009),\n",
       " ([[191, 634], [403, 634], [403, 673], [191, 673]],\n",
       "  '전자전표 가맣점보관',\n",
       "  0.5751371240323019)]"
      ]
     },
     "execution_count": 4,
     "metadata": {},
     "output_type": "execute_result"
    }
   ],
   "source": [
    "result"
   ]
  },
  {
   "cell_type": "code",
   "execution_count": 16,
   "metadata": {},
   "outputs": [
    {
     "name": "stdout",
     "output_type": "stream",
     "text": [
      "0 [신용카드 (승인) 전표]\n",
      "1 고 객 용\n",
      "2 상\n",
      "3 호: 왕순대식당\n",
      "4 사업자번오: 1UI-11-50148\n",
      "5 대표지 : 신영녀\n",
      "6 준\n",
      "7 소: 서울 종로구 수표로2길\n",
      "8 화:\n",
      "9 02-2266-2379\n",
      "10 2017년12월03일 13:01 ND:0048 01-초기사용자\n",
      "11 카 드명\n",
      "12 하나   (구외완)\n",
      "13 카드번호\n",
      "14 524335****\n",
      "15 #**Y\n",
      "16 가행점번호: 00964419733\n",
      "17 승금\n",
      "18 ZAO 원\n",
      "19 공급가액\n",
      "20 21,816 원 부가세\n",
      "21 2,184 원\n",
      "22 할부개월\n",
      "23 일시불 매입사명\n",
      "24 하나외환\n",
      "25 승인번호\n",
      "26 05457012\n",
      "27 승인일시\n",
      "28 2017년[2월03일 13:0I\n",
      "29 알\n",
      "30 팀\n",
      "31 전자전표 가맣점보관\n"
     ]
    }
   ],
   "source": [
    "for ix , i in enumerate(result):\n",
    "    print(ix,i[1])"
   ]
  },
  {
   "cell_type": "code",
   "execution_count": 21,
   "metadata": {},
   "outputs": [
    {
     "data": {
      "text/plain": [
       "'2017년12월03일 13:01 ND:0048 01-초기사용자'"
      ]
     },
     "execution_count": 21,
     "metadata": {},
     "output_type": "execute_result"
    }
   ],
   "source": [
    "#영수증에서 날짜만 추출하기\n",
    "when = result[10][1]\n",
    "when"
   ]
  },
  {
   "cell_type": "code",
   "execution_count": 22,
   "metadata": {},
   "outputs": [
    {
     "name": "stdout",
     "output_type": "stream",
     "text": [
      "추출 후 2017년12월03일 13:01 \n"
     ]
    }
   ],
   "source": [
    "when = when[:17]\n",
    "print(f'추출 후 {when} ')\n"
   ]
  },
  {
   "cell_type": "code",
   "execution_count": 23,
   "metadata": {},
   "outputs": [
    {
     "data": {
      "text/plain": [
       "datetime.datetime(2017, 12, 3, 13, 1)"
      ]
     },
     "execution_count": 23,
     "metadata": {},
     "output_type": "execute_result"
    }
   ],
   "source": [
    "#날짜 date형식으로 바꾸기\n",
    "from datetime import datetime\n",
    "\n",
    "DATE_FOMAT = \"%Y년%m월%d일 %H:%M\"\n",
    "strp_when = datetime.strptime(when,DATE_FOMAT)\n",
    "strp_when"
   ]
  },
  {
   "cell_type": "code",
   "execution_count": 24,
   "metadata": {},
   "outputs": [
    {
     "data": {
      "text/plain": [
       "'17-12-03'"
      ]
     },
     "execution_count": 24,
     "metadata": {},
     "output_type": "execute_result"
    }
   ],
   "source": [
    "#변경된 날짜형식으로 17-12-03만들기\n",
    "str_date = strp_when.strftime(\"%y-%m-%d\")\n",
    "str_date"
   ]
  },
  {
   "cell_type": "code",
   "execution_count": 25,
   "metadata": {},
   "outputs": [
    {
     "data": {
      "text/plain": [
       "'13:01'"
      ]
     },
     "execution_count": 25,
     "metadata": {},
     "output_type": "execute_result"
    }
   ],
   "source": [
    "#변경된 날짜형식으로 13:01시간만 나타내기\n",
    "str_time = strp_when.strftime(\"%H:%M\")\n",
    "str_time"
   ]
  },
  {
   "cell_type": "code",
   "execution_count": 26,
   "metadata": {},
   "outputs": [
    {
     "data": {
      "text/plain": [
       "'호: 왕순대식당'"
      ]
     },
     "execution_count": 26,
     "metadata": {},
     "output_type": "execute_result"
    }
   ],
   "source": [
    "#장소 추출하기\n",
    "where = result[3][1]\n",
    "where"
   ]
  },
  {
   "cell_type": "code",
   "execution_count": 27,
   "metadata": {},
   "outputs": [
    {
     "data": {
      "text/plain": [
       "'왕순대식당'"
      ]
     },
     "execution_count": 27,
     "metadata": {},
     "output_type": "execute_result"
    }
   ],
   "source": [
    "where = where[3:]\n",
    "where"
   ]
  },
  {
   "cell_type": "code",
   "execution_count": 31,
   "metadata": {},
   "outputs": [
    {
     "data": {
      "text/plain": [
       "'21,816 원 부가세'"
      ]
     },
     "execution_count": 31,
     "metadata": {},
     "output_type": "execute_result"
    }
   ],
   "source": [
    "#결제한 금액 추출하기\n",
    "money = result[20][1]\n",
    "money"
   ]
  },
  {
   "cell_type": "code",
   "execution_count": 32,
   "metadata": {},
   "outputs": [
    {
     "data": {
      "text/plain": [
       "'21816'"
      ]
     },
     "execution_count": 32,
     "metadata": {},
     "output_type": "execute_result"
    }
   ],
   "source": [
    "money = money[:6].replace(',','')\n",
    "money"
   ]
  },
  {
   "cell_type": "code",
   "execution_count": null,
   "metadata": {},
   "outputs": [],
   "source": []
  },
  {
   "cell_type": "code",
   "execution_count": 33,
   "metadata": {},
   "outputs": [
    {
     "name": "stdout",
     "output_type": "stream",
     "text": [
      "\n",
      "상호명  : 왕순대식당\n",
      "금액    : 21816\n",
      "결제일  : 17-12-03\n",
      "결제시간: 13:01\n"
     ]
    }
   ],
   "source": [
    "print(f'''\n",
    "상호명  : {where}\n",
    "금액    : {money}\n",
    "결제일  : {str_date}\n",
    "결제시간: {str_time}''')"
   ]
  },
  {
   "cell_type": "code",
   "execution_count": null,
   "metadata": {},
   "outputs": [],
   "source": []
  }
 ],
 "metadata": {
  "kernelspec": {
   "display_name": "Python 3.9.13 64-bit",
   "language": "python",
   "name": "python3"
  },
  "language_info": {
   "codemirror_mode": {
    "name": "ipython",
    "version": 3
   },
   "file_extension": ".py",
   "mimetype": "text/x-python",
   "name": "python",
   "nbconvert_exporter": "python",
   "pygments_lexer": "ipython3",
   "version": "3.9.13"
  },
  "orig_nbformat": 4,
  "vscode": {
   "interpreter": {
    "hash": "81794d4967e6c3204c66dcd87b604927b115b27c00565d3d43f05ba2f3a2cb0d"
   }
  }
 },
 "nbformat": 4,
 "nbformat_minor": 2
}
